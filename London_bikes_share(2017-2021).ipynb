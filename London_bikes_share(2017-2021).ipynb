{
 "cells": [
  {
   "cell_type": "code",
   "execution_count": 1,
   "id": "cccb199f-b68c-4ff6-bb1e-fa9980f6f2db",
   "metadata": {},
   "outputs": [],
   "source": [
    "import os\n",
    "import pandas as pd\n",
    "import vaex\n",
    "import numpy as np\n",
    "import pyarrow as pa"
   ]
  },
  {
   "cell_type": "markdown",
   "id": "a2cecd56",
   "metadata": {},
   "source": [
    "### Data from CSV files to analyse"
   ]
  },
  {
   "cell_type": "code",
   "execution_count": null,
   "id": "1b74468e-ca52-4096-b9f3-92cf567eab37",
   "metadata": {},
   "outputs": [],
   "source": [
    "os.chdir(\"CSV_files\")"
   ]
  },
  {
   "cell_type": "code",
   "execution_count": null,
   "id": "110c6f9a",
   "metadata": {},
   "outputs": [],
   "source": [
    "with open(\"CSV_files_url.txt\", 'r') as f:\n",
    "    files_url = [line.rstrip('\\n') for line in f]"
   ]
  },
  {
   "cell_type": "code",
   "execution_count": null,
   "id": "cd779729",
   "metadata": {},
   "outputs": [],
   "source": [
    "print(f'Number of all CSV files={len(files_url)}')"
   ]
  },
  {
   "cell_type": "markdown",
   "id": "413adf0c",
   "metadata": {},
   "source": [
    "### We take one of the file and check what kind of data are inside it (column names, data types)"
   ]
  },
  {
   "cell_type": "code",
   "execution_count": null,
   "id": "c9ea7272",
   "metadata": {},
   "outputs": [],
   "source": [
    "pd.read_csv(files_url[5])"
   ]
  },
  {
   "cell_type": "markdown",
   "id": "ad24decc",
   "metadata": {},
   "source": [
    "### In only one file we have got almost 200k of rows, so we can expect 261*200k=50M of rows in all datasets."
   ]
  },
  {
   "cell_type": "markdown",
   "id": "698e93e6",
   "metadata": {},
   "source": [
    "### We are interesting only in column `'Start date'` which allow us to calculate number of shared bikes during every hour from all the files"
   ]
  },
  {
   "cell_type": "code",
   "execution_count": null,
   "id": "b56db369",
   "metadata": {},
   "outputs": [],
   "source": [
    "os.chdir('..') # go to 'London_bike' directory\n",
    "os.chdir('Parquet_files') # go to 'Parquet_files' directory\n",
    "\n",
    "\n",
    "def CSV_to_parquet():\n",
    "    ## Because CSV files on AWS server can not be downloaded simultanously \n",
    "    ## (after few minutes connecting was always closed automatically), \n",
    "    ## I have to download files one by one (in 'for loop' like that below)\n",
    "    for j, k in zip(range(len(files_url)), files_url):\n",
    "        _ = pd.read_csv(k, usecols=['Start Date'])\n",
    "        _.to_parquet(f'datetime_part_{j}.parquet')\n",
    "\n",
    "\n",
    "CSV_to_parquet()"
   ]
  },
  {
   "cell_type": "code",
   "execution_count": 2,
   "id": "97dbc71a",
   "metadata": {},
   "outputs": [
    {
     "data": {
      "text/html": [
       "<style>.vaex-description pre {\n",
       "          max-width : 450px;\n",
       "          white-space : nowrap;\n",
       "          overflow : hidden;\n",
       "          text-overflow: ellipsis;\n",
       "        }\n",
       "\n",
       "        .vex-description pre:hover {\n",
       "          max-width : initial;\n",
       "          white-space: pre;\n",
       "        }</style>"
      ],
      "text/plain": [
       "<IPython.core.display.HTML object>"
      ]
     },
     "metadata": {},
     "output_type": "display_data"
    },
    {
     "data": {
      "text/html": [
       "<div><h2>no-name</h2> <b>rows</b>: 52,188,437</div><h2>Columns:</h2><table class='table-striped'><thead><tr><th>column</th><th>type</th><th>unit</th><th>description</th><th>expression</th></tr></thead><tr><td>Start Date</td><td>str</td><td></td><td ><pre></pre></td><td></td></tr></table><h2>Data:</h2><table>\n",
       "<thead>\n",
       "<tr><th>#                                     </th><th>Start Date      </th></tr>\n",
       "</thead>\n",
       "<tbody>\n",
       "<tr><td><i style='opacity: 0.6'>0</i>         </td><td>10/03/2018 12:14</td></tr>\n",
       "<tr><td><i style='opacity: 0.6'>1</i>         </td><td>07/03/2018 15:11</td></tr>\n",
       "<tr><td><i style='opacity: 0.6'>2</i>         </td><td>08/03/2018 13:40</td></tr>\n",
       "<tr><td><i style='opacity: 0.6'>3</i>         </td><td>09/03/2018 08:53</td></tr>\n",
       "<tr><td><i style='opacity: 0.6'>4</i>         </td><td>13/03/2018 06:56</td></tr>\n",
       "<tr><td>...                                   </td><td>...             </td></tr>\n",
       "<tr><td><i style='opacity: 0.6'>52,188,432</i></td><td>03/02/2020 07:57</td></tr>\n",
       "<tr><td><i style='opacity: 0.6'>52,188,433</i></td><td>31/01/2020 19:33</td></tr>\n",
       "<tr><td><i style='opacity: 0.6'>52,188,434</i></td><td>29/01/2020 19:20</td></tr>\n",
       "<tr><td><i style='opacity: 0.6'>52,188,435</i></td><td>03/02/2020 08:37</td></tr>\n",
       "<tr><td><i style='opacity: 0.6'>52,188,436</i></td><td>04/02/2020 18:02</td></tr>\n",
       "</tbody>\n",
       "</table>"
      ],
      "text/plain": [
       "<IPython.core.display.HTML object>"
      ]
     },
     "metadata": {},
     "output_type": "display_data"
    }
   ],
   "source": [
    "import glob\n",
    "\n",
    "df = vaex.open('datetime_part_*.parquet')\n",
    "df.info()"
   ]
  },
  {
   "cell_type": "markdown",
   "id": "08cfae9b",
   "metadata": {},
   "source": [
    "### As I said before, this is dataframe with ~50 million rows."
   ]
  },
  {
   "cell_type": "code",
   "execution_count": 3,
   "id": "4b3d524c-499c-4287-9537-d1813cc847b3",
   "metadata": {
    "tags": []
   },
   "outputs": [],
   "source": [
    "import datetime as dt\n",
    "\n",
    "def convert_to_datetime(date_string):\n",
    "    return np.datetime64(dt.datetime.strptime(str(date_string), \"%d/%m/%Y %H:%M\"))\n",
    "\n",
    "def Date_hour_split(df):\n",
    "    _ = df['Start Date'].apply(convert_to_datetime)\n",
    "    df['Dates'] = _.dt.date\n",
    "    df['Hour'] = _.dt.hour\n",
    "    #\n",
    "    return df.drop(['Start Date'])\n",
    "\n",
    "split_df = Date_hour_split(df)"
   ]
  },
  {
   "cell_type": "code",
   "execution_count": 4,
   "id": "4a5422d9",
   "metadata": {},
   "outputs": [
    {
     "data": {
      "text/html": [
       "<table>\n",
       "<thead>\n",
       "<tr><th>#                                     </th><th>Dates     </th><th>Hour  </th></tr>\n",
       "</thead>\n",
       "<tbody>\n",
       "<tr><td><i style='opacity: 0.6'>0</i>         </td><td>2018-03-10</td><td>12    </td></tr>\n",
       "<tr><td><i style='opacity: 0.6'>1</i>         </td><td>2018-03-07</td><td>15    </td></tr>\n",
       "<tr><td><i style='opacity: 0.6'>2</i>         </td><td>2018-03-08</td><td>13    </td></tr>\n",
       "<tr><td><i style='opacity: 0.6'>3</i>         </td><td>2018-03-09</td><td>8     </td></tr>\n",
       "<tr><td><i style='opacity: 0.6'>4</i>         </td><td>2018-03-13</td><td>6     </td></tr>\n",
       "<tr><td>...                                   </td><td>...       </td><td>...   </td></tr>\n",
       "<tr><td><i style='opacity: 0.6'>52,188,432</i></td><td>2020-02-03</td><td>7     </td></tr>\n",
       "<tr><td><i style='opacity: 0.6'>52,188,433</i></td><td>2020-01-31</td><td>19    </td></tr>\n",
       "<tr><td><i style='opacity: 0.6'>52,188,434</i></td><td>2020-01-29</td><td>19    </td></tr>\n",
       "<tr><td><i style='opacity: 0.6'>52,188,435</i></td><td>2020-02-03</td><td>8     </td></tr>\n",
       "<tr><td><i style='opacity: 0.6'>52,188,436</i></td><td>2020-02-04</td><td>18    </td></tr>\n",
       "</tbody>\n",
       "</table>"
      ],
      "text/plain": [
       "#           Dates       Hour\n",
       "0           2018-03-10  12\n",
       "1           2018-03-07  15\n",
       "2           2018-03-08  13\n",
       "3           2018-03-09  8\n",
       "4           2018-03-13  6\n",
       "...         ...         ...\n",
       "52,188,432  2020-02-03  7\n",
       "52,188,433  2020-01-31  19\n",
       "52,188,434  2020-01-29  19\n",
       "52,188,435  2020-02-03  8\n",
       "52,188,436  2020-02-04  18"
      ]
     },
     "execution_count": 4,
     "metadata": {},
     "output_type": "execute_result"
    }
   ],
   "source": [
    "split_df"
   ]
  },
  {
   "cell_type": "code",
   "execution_count": 24,
   "id": "92528b8b",
   "metadata": {},
   "outputs": [
    {
     "data": {
      "text/html": [
       "<table>\n",
       "<thead>\n",
       "<tr><th>#                                 </th><th>Dates     </th><th>Hour  </th></tr>\n",
       "</thead>\n",
       "<tbody>\n",
       "<tr><td><i style='opacity: 0.6'>0</i>     </td><td>2020-08-05</td><td>0     </td></tr>\n",
       "<tr><td><i style='opacity: 0.6'>1</i>     </td><td>2020-08-05</td><td>1     </td></tr>\n",
       "<tr><td><i style='opacity: 0.6'>2</i>     </td><td>2020-08-05</td><td>2     </td></tr>\n",
       "<tr><td><i style='opacity: 0.6'>3</i>     </td><td>2020-08-05</td><td>3     </td></tr>\n",
       "<tr><td><i style='opacity: 0.6'>4</i>     </td><td>2020-08-05</td><td>4     </td></tr>\n",
       "<tr><td>...                               </td><td>...       </td><td>...   </td></tr>\n",
       "<tr><td><i style='opacity: 0.6'>43,836</i></td><td>2019-09-16</td><td>19    </td></tr>\n",
       "<tr><td><i style='opacity: 0.6'>43,837</i></td><td>2019-09-16</td><td>20    </td></tr>\n",
       "<tr><td><i style='opacity: 0.6'>43,838</i></td><td>2019-09-16</td><td>21    </td></tr>\n",
       "<tr><td><i style='opacity: 0.6'>43,839</i></td><td>2019-09-16</td><td>22    </td></tr>\n",
       "<tr><td><i style='opacity: 0.6'>43,840</i></td><td>2019-09-16</td><td>23    </td></tr>\n",
       "</tbody>\n",
       "</table>"
      ],
      "text/plain": [
       "#       Dates       Hour\n",
       "0       2020-08-05  0\n",
       "1       2020-08-05  1\n",
       "2       2020-08-05  2\n",
       "3       2020-08-05  3\n",
       "4       2020-08-05  4\n",
       "...     ...         ...\n",
       "43,836  2019-09-16  19\n",
       "43,837  2019-09-16  20\n",
       "43,838  2019-09-16  21\n",
       "43,839  2019-09-16  22\n",
       "43,840  2019-09-16  23"
      ]
     },
     "execution_count": 24,
     "metadata": {},
     "output_type": "execute_result"
    }
   ],
   "source": [
    "split_df.groupby(['Dates','Hour'], agg='sum')"
   ]
  },
  {
   "cell_type": "markdown",
   "id": "a11733a6",
   "metadata": {},
   "source": [
    "### Because Vaex has problem with dropping duplicate values after grouping data, I will use once again Pandas Dataframe."
   ]
  },
  {
   "cell_type": "code",
   "execution_count": 5,
   "id": "98dc4e07",
   "metadata": {},
   "outputs": [
    {
     "data": {
      "text/html": [
       "<div>\n",
       "<style scoped>\n",
       "    .dataframe tbody tr th:only-of-type {\n",
       "        vertical-align: middle;\n",
       "    }\n",
       "\n",
       "    .dataframe tbody tr th {\n",
       "        vertical-align: top;\n",
       "    }\n",
       "\n",
       "    .dataframe thead th {\n",
       "        text-align: right;\n",
       "    }\n",
       "</style>\n",
       "<table border=\"1\" class=\"dataframe\">\n",
       "  <thead>\n",
       "    <tr style=\"text-align: right;\">\n",
       "      <th></th>\n",
       "      <th>Dates</th>\n",
       "      <th>Hour</th>\n",
       "    </tr>\n",
       "  </thead>\n",
       "  <tbody>\n",
       "    <tr>\n",
       "      <th>0</th>\n",
       "      <td>2018-03-10</td>\n",
       "      <td>12</td>\n",
       "    </tr>\n",
       "    <tr>\n",
       "      <th>1</th>\n",
       "      <td>2018-03-07</td>\n",
       "      <td>15</td>\n",
       "    </tr>\n",
       "    <tr>\n",
       "      <th>2</th>\n",
       "      <td>2018-03-08</td>\n",
       "      <td>13</td>\n",
       "    </tr>\n",
       "    <tr>\n",
       "      <th>3</th>\n",
       "      <td>2018-03-09</td>\n",
       "      <td>8</td>\n",
       "    </tr>\n",
       "    <tr>\n",
       "      <th>4</th>\n",
       "      <td>2018-03-13</td>\n",
       "      <td>6</td>\n",
       "    </tr>\n",
       "    <tr>\n",
       "      <th>...</th>\n",
       "      <td>...</td>\n",
       "      <td>...</td>\n",
       "    </tr>\n",
       "    <tr>\n",
       "      <th>52188432</th>\n",
       "      <td>2020-02-03</td>\n",
       "      <td>7</td>\n",
       "    </tr>\n",
       "    <tr>\n",
       "      <th>52188433</th>\n",
       "      <td>2020-01-31</td>\n",
       "      <td>19</td>\n",
       "    </tr>\n",
       "    <tr>\n",
       "      <th>52188434</th>\n",
       "      <td>2020-01-29</td>\n",
       "      <td>19</td>\n",
       "    </tr>\n",
       "    <tr>\n",
       "      <th>52188435</th>\n",
       "      <td>2020-02-03</td>\n",
       "      <td>8</td>\n",
       "    </tr>\n",
       "    <tr>\n",
       "      <th>52188436</th>\n",
       "      <td>2020-02-04</td>\n",
       "      <td>18</td>\n",
       "    </tr>\n",
       "  </tbody>\n",
       "</table>\n",
       "<p>52188437 rows × 2 columns</p>\n",
       "</div>"
      ],
      "text/plain": [
       "              Dates  Hour\n",
       "0        2018-03-10    12\n",
       "1        2018-03-07    15\n",
       "2        2018-03-08    13\n",
       "3        2018-03-09     8\n",
       "4        2018-03-13     6\n",
       "...             ...   ...\n",
       "52188432 2020-02-03     7\n",
       "52188433 2020-01-31    19\n",
       "52188434 2020-01-29    19\n",
       "52188435 2020-02-03     8\n",
       "52188436 2020-02-04    18\n",
       "\n",
       "[52188437 rows x 2 columns]"
      ]
     },
     "execution_count": 5,
     "metadata": {},
     "output_type": "execute_result"
    }
   ],
   "source": [
    "df = split_df.to_pandas_df()\n",
    "df"
   ]
  },
  {
   "cell_type": "code",
   "execution_count": 32,
   "id": "89fe1672",
   "metadata": {},
   "outputs": [],
   "source": [
    "def Bikes_share_add(df):\n",
    "    ## Inserting column without data\n",
    "    df['Sum'] = ''\n",
    "    ## Sum number of bikes sharing for every hour and date\n",
    "    df = df.groupby(['Dates','Hour'], as_index=False)['Sum'].size()\n",
    "    df = df.rename(columns={'size': 'Bikes share'})\n",
    "    return df\n",
    "\n",
    "df_bikeshare = Bikes_share_add(df)"
   ]
  },
  {
   "cell_type": "code",
   "execution_count": 33,
   "id": "8fe72119",
   "metadata": {},
   "outputs": [
    {
     "name": "stdout",
     "output_type": "stream",
     "text": [
      "<class 'pandas.core.frame.DataFrame'>\n",
      "RangeIndex: 43841 entries, 0 to 43840\n",
      "Data columns (total 3 columns):\n",
      " #   Column       Non-Null Count  Dtype         \n",
      "---  ------       --------------  -----         \n",
      " 0   Dates        43841 non-null  datetime64[ns]\n",
      " 1   Hour         43841 non-null  int64         \n",
      " 2   Bikes share  43841 non-null  int64         \n",
      "dtypes: datetime64[ns](1), int64(2)\n",
      "memory usage: 1.0 MB\n"
     ]
    }
   ],
   "source": [
    "df_bikeshare.info()"
   ]
  },
  {
   "cell_type": "code",
   "execution_count": 34,
   "id": "5720ee94",
   "metadata": {},
   "outputs": [
    {
     "data": {
      "text/html": [
       "<div>\n",
       "<style scoped>\n",
       "    .dataframe tbody tr th:only-of-type {\n",
       "        vertical-align: middle;\n",
       "    }\n",
       "\n",
       "    .dataframe tbody tr th {\n",
       "        vertical-align: top;\n",
       "    }\n",
       "\n",
       "    .dataframe thead th {\n",
       "        text-align: right;\n",
       "    }\n",
       "</style>\n",
       "<table border=\"1\" class=\"dataframe\">\n",
       "  <thead>\n",
       "    <tr style=\"text-align: right;\">\n",
       "      <th></th>\n",
       "      <th>Dates</th>\n",
       "      <th>Hour</th>\n",
       "      <th>Bikes share</th>\n",
       "    </tr>\n",
       "  </thead>\n",
       "  <tbody>\n",
       "    <tr>\n",
       "      <th>0</th>\n",
       "      <td>2016-12-28</td>\n",
       "      <td>0</td>\n",
       "      <td>102</td>\n",
       "    </tr>\n",
       "    <tr>\n",
       "      <th>1</th>\n",
       "      <td>2016-12-28</td>\n",
       "      <td>1</td>\n",
       "      <td>75</td>\n",
       "    </tr>\n",
       "    <tr>\n",
       "      <th>2</th>\n",
       "      <td>2016-12-28</td>\n",
       "      <td>2</td>\n",
       "      <td>30</td>\n",
       "    </tr>\n",
       "    <tr>\n",
       "      <th>3</th>\n",
       "      <td>2016-12-28</td>\n",
       "      <td>3</td>\n",
       "      <td>28</td>\n",
       "    </tr>\n",
       "    <tr>\n",
       "      <th>4</th>\n",
       "      <td>2016-12-28</td>\n",
       "      <td>4</td>\n",
       "      <td>32</td>\n",
       "    </tr>\n",
       "  </tbody>\n",
       "</table>\n",
       "</div>"
      ],
      "text/plain": [
       "       Dates  Hour  Bikes share\n",
       "0 2016-12-28     0          102\n",
       "1 2016-12-28     1           75\n",
       "2 2016-12-28     2           30\n",
       "3 2016-12-28     3           28\n",
       "4 2016-12-28     4           32"
      ]
     },
     "execution_count": 34,
     "metadata": {},
     "output_type": "execute_result"
    }
   ],
   "source": [
    "df_bikeshare.head()"
   ]
  },
  {
   "cell_type": "code",
   "execution_count": 37,
   "id": "03b96fe9",
   "metadata": {},
   "outputs": [
    {
     "data": {
      "text/html": [
       "<div>\n",
       "<style scoped>\n",
       "    .dataframe tbody tr th:only-of-type {\n",
       "        vertical-align: middle;\n",
       "    }\n",
       "\n",
       "    .dataframe tbody tr th {\n",
       "        vertical-align: top;\n",
       "    }\n",
       "\n",
       "    .dataframe thead th {\n",
       "        text-align: right;\n",
       "    }\n",
       "</style>\n",
       "<table border=\"1\" class=\"dataframe\">\n",
       "  <thead>\n",
       "    <tr style=\"text-align: right;\">\n",
       "      <th></th>\n",
       "      <th>Dates</th>\n",
       "      <th>Hour</th>\n",
       "      <th>Bikes share</th>\n",
       "    </tr>\n",
       "  </thead>\n",
       "  <tbody>\n",
       "    <tr>\n",
       "      <th>0</th>\n",
       "      <td>2017-01-01</td>\n",
       "      <td>0</td>\n",
       "      <td>966</td>\n",
       "    </tr>\n",
       "    <tr>\n",
       "      <th>1</th>\n",
       "      <td>2017-01-01</td>\n",
       "      <td>1</td>\n",
       "      <td>910</td>\n",
       "    </tr>\n",
       "    <tr>\n",
       "      <th>2</th>\n",
       "      <td>2017-01-01</td>\n",
       "      <td>2</td>\n",
       "      <td>346</td>\n",
       "    </tr>\n",
       "    <tr>\n",
       "      <th>3</th>\n",
       "      <td>2017-01-01</td>\n",
       "      <td>3</td>\n",
       "      <td>286</td>\n",
       "    </tr>\n",
       "    <tr>\n",
       "      <th>4</th>\n",
       "      <td>2017-01-01</td>\n",
       "      <td>4</td>\n",
       "      <td>189</td>\n",
       "    </tr>\n",
       "  </tbody>\n",
       "</table>\n",
       "</div>"
      ],
      "text/plain": [
       "       Dates  Hour  Bikes share\n",
       "0 2017-01-01     0          966\n",
       "1 2017-01-01     1          910\n",
       "2 2017-01-01     2          346\n",
       "3 2017-01-01     3          286\n",
       "4 2017-01-01     4          189"
      ]
     },
     "execution_count": 37,
     "metadata": {},
     "output_type": "execute_result"
    }
   ],
   "source": [
    "df_bikeshare = df_bikeshare[(df_bikeshare['Dates'] >= '2017-01-01') & (df_bikeshare['Dates'] <= '2022-01-01')].reset_index(drop=True)\n",
    "df_bikeshare.head()"
   ]
  },
  {
   "cell_type": "markdown",
   "id": "1ecc33bd",
   "metadata": {},
   "source": [
    "### Save final result as .parquet file"
   ]
  },
  {
   "cell_type": "code",
   "execution_count": 38,
   "id": "cf221760-142f-4f52-b3e8-af53533c216f",
   "metadata": {
    "tags": []
   },
   "outputs": [],
   "source": [
    "df_bikeshare.to_parquet('df_bikeshares.parquet', compression='snappy')"
   ]
  }
 ],
 "metadata": {
  "kernelspec": {
   "display_name": "Python 3.9.7 ('base')",
   "language": "python",
   "name": "python3"
  },
  "language_info": {
   "codemirror_mode": {
    "name": "ipython",
    "version": 3
   },
   "file_extension": ".py",
   "mimetype": "text/x-python",
   "name": "python",
   "nbconvert_exporter": "python",
   "pygments_lexer": "ipython3",
   "version": "3.9.12"
  },
  "vscode": {
   "interpreter": {
    "hash": "20a9e06a1eee47c4abbed4ec8225ad91d78d9800d202b71b6b0a6e47016c6abd"
   }
  }
 },
 "nbformat": 4,
 "nbformat_minor": 5
}
