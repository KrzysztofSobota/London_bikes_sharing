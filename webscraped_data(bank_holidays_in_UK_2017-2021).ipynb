{
 "cells": [
  {
   "cell_type": "code",
   "execution_count": 14,
   "id": "bbf80a0f-1650-4ff7-92b5-4d9e63a7bbcd",
   "metadata": {
    "colab": {
     "base_uri": "https://localhost:8080/"
    },
    "id": "11f9cb40-55b0-4a54-8e42-16cbf369dd74",
    "outputId": "5522abe4-ffb4-4d0f-aa45-9344be82a6c0",
    "tags": []
   },
   "outputs": [],
   "source": [
    "import pandas as pd"
   ]
  },
  {
   "cell_type": "markdown",
   "id": "baed3839-d729-4e45-b0ad-148a9e5e915c",
   "metadata": {
    "id": "baed3839-d729-4e45-b0ad-148a9e5e915c"
   },
   "source": [
    "## For 2017-2021 years range, I get tables containing info about 'bank holidays' in the UK"
   ]
  },
  {
   "cell_type": "code",
   "execution_count": 15,
   "id": "586b8ec8",
   "metadata": {},
   "outputs": [
    {
     "data": {
      "text/plain": [
       "24"
      ]
     },
     "execution_count": 15,
     "metadata": {},
     "output_type": "execute_result"
    }
   ],
   "source": [
    "tables = pd.read_html('https://www.gov.uk/bank-holidays')\n",
    "len(tables)"
   ]
  },
  {
   "cell_type": "markdown",
   "id": "ca3577ad",
   "metadata": {},
   "source": [
    "### Example with dates for 2021 year"
   ]
  },
  {
   "cell_type": "code",
   "execution_count": 16,
   "id": "5a3c7c8f",
   "metadata": {},
   "outputs": [
    {
     "data": {
      "text/html": [
       "<div>\n",
       "<style scoped>\n",
       "    .dataframe tbody tr th:only-of-type {\n",
       "        vertical-align: middle;\n",
       "    }\n",
       "\n",
       "    .dataframe tbody tr th {\n",
       "        vertical-align: top;\n",
       "    }\n",
       "\n",
       "    .dataframe thead th {\n",
       "        text-align: right;\n",
       "    }\n",
       "</style>\n",
       "<table border=\"1\" class=\"dataframe\">\n",
       "  <thead>\n",
       "    <tr style=\"text-align: right;\">\n",
       "      <th></th>\n",
       "      <th>0</th>\n",
       "      <th>1</th>\n",
       "      <th>2</th>\n",
       "    </tr>\n",
       "  </thead>\n",
       "  <tbody>\n",
       "    <tr>\n",
       "      <th>0</th>\n",
       "      <td>28 December</td>\n",
       "      <td>Tuesday</td>\n",
       "      <td>Boxing Day (substitute day)</td>\n",
       "    </tr>\n",
       "    <tr>\n",
       "      <th>1</th>\n",
       "      <td>27 December</td>\n",
       "      <td>Monday</td>\n",
       "      <td>Christmas Day (substitute day)</td>\n",
       "    </tr>\n",
       "    <tr>\n",
       "      <th>2</th>\n",
       "      <td>30 August</td>\n",
       "      <td>Monday</td>\n",
       "      <td>Summer bank holiday</td>\n",
       "    </tr>\n",
       "    <tr>\n",
       "      <th>3</th>\n",
       "      <td>31 May</td>\n",
       "      <td>Monday</td>\n",
       "      <td>Spring bank holiday</td>\n",
       "    </tr>\n",
       "    <tr>\n",
       "      <th>4</th>\n",
       "      <td>3 May</td>\n",
       "      <td>Monday</td>\n",
       "      <td>Early May bank holiday</td>\n",
       "    </tr>\n",
       "    <tr>\n",
       "      <th>5</th>\n",
       "      <td>5 April</td>\n",
       "      <td>Monday</td>\n",
       "      <td>Easter Monday</td>\n",
       "    </tr>\n",
       "    <tr>\n",
       "      <th>6</th>\n",
       "      <td>2 April</td>\n",
       "      <td>Friday</td>\n",
       "      <td>Good Friday</td>\n",
       "    </tr>\n",
       "    <tr>\n",
       "      <th>7</th>\n",
       "      <td>1 January</td>\n",
       "      <td>Friday</td>\n",
       "      <td>New Year’s Day</td>\n",
       "    </tr>\n",
       "  </tbody>\n",
       "</table>\n",
       "</div>"
      ],
      "text/plain": [
       "             0        1                               2\n",
       "0  28 December  Tuesday     Boxing Day (substitute day)\n",
       "1  27 December   Monday  Christmas Day (substitute day)\n",
       "2    30 August   Monday             Summer bank holiday\n",
       "3       31 May   Monday             Spring bank holiday\n",
       "4        3 May   Monday          Early May bank holiday\n",
       "5      5 April   Monday                   Easter Monday\n",
       "6      2 April   Friday                     Good Friday\n",
       "7    1 January   Friday                  New Year’s Day"
      ]
     },
     "execution_count": 16,
     "metadata": {},
     "output_type": "execute_result"
    }
   ],
   "source": [
    "tables[3]"
   ]
  },
  {
   "cell_type": "markdown",
   "id": "e7b7713a",
   "metadata": {},
   "source": [
    "### Make a Dataframe with dates where all months are numbers, not names."
   ]
  },
  {
   "cell_type": "code",
   "execution_count": 17,
   "id": "a5ec43b7",
   "metadata": {},
   "outputs": [],
   "source": [
    "date_list = []\n",
    "years = [2021, 2020, 2019, 2018, 2017]\n",
    "\n",
    "## Add year number to first column in all 5 tables\n",
    "for i in range(len(years)):\n",
    "    ## Begin counting from 4. tables (year 2021), so I have to add 3 to number/index of every table\n",
    "    date_list.append([f\"{tables[i+3].iloc[j,0]} {years[i]}\" for j in range(len(tables[i+3]))])\n",
    "\n",
    "df = pd.DataFrame(date_list)\n",
    "df = df.astype('datetime64[ns]')"
   ]
  },
  {
   "cell_type": "markdown",
   "id": "b60cde66",
   "metadata": {},
   "source": [
    "#### Looking at created DataFrame"
   ]
  },
  {
   "cell_type": "code",
   "execution_count": 18,
   "id": "2b9ed760",
   "metadata": {},
   "outputs": [
    {
     "data": {
      "text/html": [
       "<div>\n",
       "<style scoped>\n",
       "    .dataframe tbody tr th:only-of-type {\n",
       "        vertical-align: middle;\n",
       "    }\n",
       "\n",
       "    .dataframe tbody tr th {\n",
       "        vertical-align: top;\n",
       "    }\n",
       "\n",
       "    .dataframe thead th {\n",
       "        text-align: right;\n",
       "    }\n",
       "</style>\n",
       "<table border=\"1\" class=\"dataframe\">\n",
       "  <thead>\n",
       "    <tr style=\"text-align: right;\">\n",
       "      <th></th>\n",
       "      <th>0</th>\n",
       "      <th>1</th>\n",
       "      <th>2</th>\n",
       "      <th>3</th>\n",
       "      <th>4</th>\n",
       "      <th>5</th>\n",
       "      <th>6</th>\n",
       "      <th>7</th>\n",
       "    </tr>\n",
       "  </thead>\n",
       "  <tbody>\n",
       "    <tr>\n",
       "      <th>0</th>\n",
       "      <td>2021-12-28</td>\n",
       "      <td>2021-12-27</td>\n",
       "      <td>2021-08-30</td>\n",
       "      <td>2021-05-31</td>\n",
       "      <td>2021-05-03</td>\n",
       "      <td>2021-04-05</td>\n",
       "      <td>2021-04-02</td>\n",
       "      <td>2021-01-01</td>\n",
       "    </tr>\n",
       "    <tr>\n",
       "      <th>1</th>\n",
       "      <td>2020-12-28</td>\n",
       "      <td>2020-12-25</td>\n",
       "      <td>2020-08-31</td>\n",
       "      <td>2020-05-25</td>\n",
       "      <td>2020-05-08</td>\n",
       "      <td>2020-04-13</td>\n",
       "      <td>2020-04-10</td>\n",
       "      <td>2020-01-01</td>\n",
       "    </tr>\n",
       "    <tr>\n",
       "      <th>2</th>\n",
       "      <td>2019-12-26</td>\n",
       "      <td>2019-12-25</td>\n",
       "      <td>2019-08-26</td>\n",
       "      <td>2019-05-27</td>\n",
       "      <td>2019-05-06</td>\n",
       "      <td>2019-04-22</td>\n",
       "      <td>2019-04-19</td>\n",
       "      <td>2019-01-01</td>\n",
       "    </tr>\n",
       "    <tr>\n",
       "      <th>3</th>\n",
       "      <td>2018-12-26</td>\n",
       "      <td>2018-12-25</td>\n",
       "      <td>2018-08-27</td>\n",
       "      <td>2018-05-28</td>\n",
       "      <td>2018-05-07</td>\n",
       "      <td>2018-04-02</td>\n",
       "      <td>2018-03-30</td>\n",
       "      <td>2018-01-01</td>\n",
       "    </tr>\n",
       "    <tr>\n",
       "      <th>4</th>\n",
       "      <td>2017-12-26</td>\n",
       "      <td>2017-12-25</td>\n",
       "      <td>2017-08-28</td>\n",
       "      <td>2017-05-29</td>\n",
       "      <td>2017-05-01</td>\n",
       "      <td>2017-04-17</td>\n",
       "      <td>2017-04-14</td>\n",
       "      <td>2017-01-02</td>\n",
       "    </tr>\n",
       "  </tbody>\n",
       "</table>\n",
       "</div>"
      ],
      "text/plain": [
       "           0          1          2          3          4          5  \\\n",
       "0 2021-12-28 2021-12-27 2021-08-30 2021-05-31 2021-05-03 2021-04-05   \n",
       "1 2020-12-28 2020-12-25 2020-08-31 2020-05-25 2020-05-08 2020-04-13   \n",
       "2 2019-12-26 2019-12-25 2019-08-26 2019-05-27 2019-05-06 2019-04-22   \n",
       "3 2018-12-26 2018-12-25 2018-08-27 2018-05-28 2018-05-07 2018-04-02   \n",
       "4 2017-12-26 2017-12-25 2017-08-28 2017-05-29 2017-05-01 2017-04-17   \n",
       "\n",
       "           6          7  \n",
       "0 2021-04-02 2021-01-01  \n",
       "1 2020-04-10 2020-01-01  \n",
       "2 2019-04-19 2019-01-01  \n",
       "3 2018-03-30 2018-01-01  \n",
       "4 2017-04-14 2017-01-02  "
      ]
     },
     "execution_count": 18,
     "metadata": {},
     "output_type": "execute_result"
    }
   ],
   "source": [
    "df.head()"
   ]
  },
  {
   "cell_type": "code",
   "execution_count": 19,
   "id": "6029d50e",
   "metadata": {},
   "outputs": [
    {
     "name": "stdout",
     "output_type": "stream",
     "text": [
      "<class 'pandas.core.frame.DataFrame'>\n",
      "RangeIndex: 5 entries, 0 to 4\n",
      "Data columns (total 8 columns):\n",
      " #   Column  Non-Null Count  Dtype         \n",
      "---  ------  --------------  -----         \n",
      " 0   0       5 non-null      datetime64[ns]\n",
      " 1   1       5 non-null      datetime64[ns]\n",
      " 2   2       5 non-null      datetime64[ns]\n",
      " 3   3       5 non-null      datetime64[ns]\n",
      " 4   4       5 non-null      datetime64[ns]\n",
      " 5   5       5 non-null      datetime64[ns]\n",
      " 6   6       5 non-null      datetime64[ns]\n",
      " 7   7       5 non-null      datetime64[ns]\n",
      "dtypes: datetime64[ns](8)\n",
      "memory usage: 448.0 bytes\n"
     ]
    }
   ],
   "source": [
    "df.info()"
   ]
  },
  {
   "cell_type": "code",
   "execution_count": 20,
   "id": "71c369ab",
   "metadata": {},
   "outputs": [],
   "source": [
    "df.to_csv('CSV_files/holiday_bank_info.csv', index=False, index_label=False)"
   ]
  }
 ],
 "metadata": {
  "colab": {
   "name": "pinterest_images.ipynb",
   "provenance": []
  },
  "interpreter": {
   "hash": "20a9e06a1eee47c4abbed4ec8225ad91d78d9800d202b71b6b0a6e47016c6abd"
  },
  "kernelspec": {
   "display_name": "Python 3 (ipykernel)",
   "language": "python",
   "name": "python3"
  },
  "language_info": {
   "codemirror_mode": {
    "name": "ipython",
    "version": 3
   },
   "file_extension": ".py",
   "mimetype": "text/x-python",
   "name": "python",
   "nbconvert_exporter": "python",
   "pygments_lexer": "ipython3",
   "version": "3.9.12"
  }
 },
 "nbformat": 4,
 "nbformat_minor": 5
}
